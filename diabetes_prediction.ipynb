{
 "cells": [
  {
   "cell_type": "code",
   "execution_count": 1,
   "id": "627aa7d5",
   "metadata": {},
   "outputs": [],
   "source": [
    "# Importing Libraries\n",
    "import pandas as pd\n",
    "import numpy as np\n",
    "from sklearn.model_selection import train_test_split\n",
    "from tensorflow import keras\n",
    "from tensorflow.keras import layers\n",
    "from sklearn.model_selection import train_test_split\n",
    "from sklearn.preprocessing import StandardScaler\n",
    "import matplotlib.pyplot as plt\n",
    "from keras.utils import to_categorical\n",
    "from sklearn.metrics import classification_report, f1_score, precision_score, recall_score\n",
    "\n",
    "import warnings\n",
    "warnings.filterwarnings(\"ignore\")"
   ]
  },
  {
   "cell_type": "code",
   "execution_count": 2,
   "id": "616d76b3",
   "metadata": {},
   "outputs": [
    {
     "name": "stdout",
     "output_type": "stream",
     "text": [
      "   Pregnancies  Glucose  BloodPressure  SkinThickness  Insulin   BMI  \\\n",
      "0            6      148             72             35        0  33.6   \n",
      "1            1       85             66             29        0  26.6   \n",
      "2            8      183             64              0        0  23.3   \n",
      "3            1       89             66             23       94  28.1   \n",
      "4            0      137             40             35      168  43.1   \n",
      "\n",
      "   PedigreeFunc  Age  Outcome  \n",
      "0         0.627   50        1  \n",
      "1         0.351   31        0  \n",
      "2         0.672   32        1  \n",
      "3         0.167   21        0  \n",
      "4         2.288   33        1  \n"
     ]
    }
   ],
   "source": [
    "#Importing dataset\n",
    "diabetes_data = pd.read_csv('diabetes.csv')\n",
    "print(diabetes_data.head())"
   ]
  },
  {
   "cell_type": "code",
   "execution_count": 3,
   "id": "e9e6c4f1",
   "metadata": {},
   "outputs": [],
   "source": [
    "healthy = diabetes_data[diabetes_data['Outcome'] == 0]\n",
    "non_healthy = diabetes_data[diabetes_data['Outcome'] == 1]"
   ]
  },
  {
   "cell_type": "code",
   "execution_count": 4,
   "id": "aeb8f390",
   "metadata": {},
   "outputs": [],
   "source": [
    "# Data Preprocessing\n",
    "# handling the zero values in the columns\n",
    "columns_to_replace = ['Glucose', 'BloodPressure', 'SkinThickness', \\\n",
    "                      'Insulin', 'BMI']\n",
    "\n",
    "for column in columns_to_replace:\n",
    "    healthy_mean_value = healthy.loc[healthy[column] != 0, column].mean()\n",
    "    healthy.loc[healthy[column] == 0, column] = healthy_mean_value\n",
    "    non_healthy_mean_value = non_healthy.loc[non_healthy[column] != 0,\\\n",
    "                                                 column].mean()\n",
    "    non_healthy.loc[non_healthy[column] == 0, column] = \\\n",
    "                                            non_healthy_mean_value\n",
    "\n",
    "df = pd.concat([healthy, non_healthy], ignore_index=True)\n"
   ]
  },
  {
   "cell_type": "code",
   "execution_count": 5,
   "id": "ee49558c",
   "metadata": {},
   "outputs": [
    {
     "data": {
      "text/plain": [
       "dict_keys(['loss', 'accuracy', 'val_loss', 'val_accuracy'])"
      ]
     },
     "execution_count": 5,
     "metadata": {},
     "output_type": "execute_result"
    }
   ],
   "source": [
    "# Build a Deep learning model with a hidden layer with 24 nodes and the output layer with one node.\n",
    "X = df.drop('Outcome', axis=1)\n",
    "y = df['Outcome']\n",
    "X_train, X_test, y_train, y_test = train_test_split(X, y,\n",
    "                                          train_size=0.76,random_state=1)\n",
    "\n",
    "scaler = StandardScaler()\n",
    "X_train_scaled = scaler.fit_transform(X_train)\n",
    "X_test_scaled = scaler.transform(X_test)\n",
    "\n",
    "network1 = keras.Sequential([\n",
    "    layers.Dense(24, activation='relu'),\n",
    "    layers.Dense(1, activation='sigmoid')\n",
    "])\n",
    "\n",
    "#Compile and train the model\n",
    "network1.compile(optimizer='rmsprop',\n",
    "                 loss='binary_crossentropy',\n",
    "                 metrics=['accuracy'])\n",
    "\n",
    "n_epochs = 400\n",
    "history = network1.fit(X_train_scaled, y_train, epochs=n_epochs,\n",
    "                       batch_size=48,validation_split=0.20, verbose=0)\n",
    "\n",
    "history.history.keys()"
   ]
  },
  {
   "cell_type": "code",
   "execution_count": 6,
   "id": "245a7daf",
   "metadata": {},
   "outputs": [
    {
     "data": {
      "image/png": "[encoded data removed]",
      "text/plain": [
       "<Figure size 864x432 with 1 Axes>"
      ]
     },
     "metadata": {
      "needs_background": "light"
     },
     "output_type": "display_data"
    }
   ],
   "source": [
    "# line plot to visualize the change in training and validation loss over epochs.\n",
    "train_loss = history.history['loss']\n",
    "val_loss = history.history['val_loss']\n",
    "epochs = range(1, len(train_loss) + 1)\n",
    "\n",
    "plt.figure(figsize=(12, 6))\n",
    "plt.plot(epochs, train_loss, 'g', label='Training loss')\n",
    "plt.plot(epochs, val_loss, 'r', label='Validation loss')\n",
    "plt.title('Training and Validation Loss')\n",
    "plt.xlabel('Epochs')\n",
    "plt.ylabel('Loss')\n",
    "plt.legend()\n",
    "plt.show()\n"
   ]
  },
  {
   "cell_type": "code",
   "execution_count": 7,
   "id": "150e2084",
   "metadata": {},
   "outputs": [
    {
     "name": "stdout",
     "output_type": "stream",
     "text": [
      "The model starts overfitting at 113 epochs\n"
     ]
    }
   ],
   "source": [
    "#Detecting overfitting \n",
    "dfnew = pd.DataFrame(history.history)\n",
    "dfnew.index = range(1,401)\n",
    "# dfnew\n",
    "\n",
    "dfnew[dfnew.val_loss==dfnew.val_loss.min()]\n",
    "optimal_epochs  = dfnew['val_loss'].idxmin()\n",
    "print(\"The model starts overfitting at\",optimal_epochs,\"epochs\")"
   ]
  },
  {
   "cell_type": "code",
   "execution_count": 8,
   "id": "a78161c1",
   "metadata": {},
   "outputs": [],
   "source": [
    "#Retraining te model\n",
    "network1 = keras.Sequential([\n",
    "    layers.Dense(24, activation='relu'),\n",
    "    layers.Dense(1, activation='sigmoid')\n",
    "])\n",
    "network1.compile(optimizer='rmsprop',\n",
    "                 loss='binary_crossentropy',\n",
    "                 metrics=['accuracy'])\n",
    "\n",
    "history = network1.fit(X_train_scaled, y_train, epochs=optimal_epochs,\n",
    "                       batch_size=48, verbose=0)\n"
   ]
  },
  {
   "cell_type": "code",
   "execution_count": 9,
   "id": "433f7b28",
   "metadata": {},
   "outputs": [
    {
     "name": "stdout",
     "output_type": "stream",
     "text": [
      "6/6 [==============================] - 0s 3ms/step\n",
      "6/6 [==============================] - 0s 3ms/step - loss: 0.4243 - accuracy: 0.8324\n",
      "Test Loss:  0.42430993914604187\n",
      "Test Accuracy Rate:  0.8324324488639832\n",
      "F1 Score:  0.7669172932330828\n",
      "Precision:  0.8225806451612904\n",
      "Recall:  0.7183098591549296\n",
      "Classification Report:\n",
      "               precision    recall  f1-score   support\n",
      "\n",
      "           0       0.84      0.90      0.87       114\n",
      "           1       0.82      0.72      0.77        71\n",
      "\n",
      "    accuracy                           0.83       185\n",
      "   macro avg       0.83      0.81      0.82       185\n",
      "weighted avg       0.83      0.83      0.83       185\n",
      "\n"
     ]
    }
   ],
   "source": [
    "# Evaluate and print metrics for this model (loss, accuracy, F1 score, precision, recall)\n",
    "\n",
    "y_pred_probs = network1.predict(X_test_scaled)\n",
    "\n",
    "# Converting predicted probabilities to binary predictions (0 or 1)\n",
    "y_pred = (y_pred_probs > 0.5).astype(int)\n",
    "\n",
    "f1_score_value = f1_score(y_test, y_pred)\n",
    "precision_value = precision_score(y_test, y_pred)\n",
    "recall_value = recall_score(y_test, y_pred)\n",
    "test_loss, test_accuracy = network1.evaluate(X_test_scaled, y_test)\n",
    "\n",
    "print(\"Test Loss: \", test_loss)\n",
    "print(\"Test Accuracy Rate: \", test_accuracy)\n",
    "print(\"F1 Score: \", f1_score_value)\n",
    "print(\"Precision: \", precision_value)\n",
    "print(\"Recall: \", recall_value)\n",
    "\n",
    "# Printing the complete classification report as well\n",
    "classification_report_result = classification_report(y_test, y_pred)\n",
    "print(\"Classification Report:\\n\", classification_report_result)\n"
   ]
  },
  {
   "cell_type": "code",
   "execution_count": 10,
   "id": "26bfc38e",
   "metadata": {},
   "outputs": [
    {
     "data": {
      "text/plain": [
       "dict_keys(['loss', 'accuracy', 'val_loss', 'val_accuracy'])"
      ]
     },
     "execution_count": 10,
     "metadata": {},
     "output_type": "execute_result"
    }
   ],
   "source": [
    "# Build a Deep learning model with 2 hidden layers with 32 and 16 nodes and the output layer with one node.\n",
    "network2 = keras.Sequential([\n",
    "    layers.Dense(32, activation='relu'),\n",
    "    layers.Dense(16, activation='relu'),\n",
    "    layers.Dense(1, activation='sigmoid')\n",
    "])\n",
    "\n",
    "network2.compile(optimizer='rmsprop',\n",
    "                 loss='binary_crossentropy',\n",
    "                 metrics=['accuracy'])\n",
    "\n",
    "n_epochs = 400\n",
    "history = network2.fit(X_train_scaled, y_train, epochs=n_epochs,\n",
    "                       batch_size=48,validation_split=0.20, verbose=0)\n",
    "\n",
    "history.history.keys()\n"
   ]
  },
  {
   "cell_type": "code",
   "execution_count": 11,
   "id": "e5bee49d",
   "metadata": {},
   "outputs": [
    {
     "data": {
      "image/png": "[encoded data removed]",
      "text/plain": [
       "<Figure size 864x432 with 1 Axes>"
      ]
     },
     "metadata": {
      "needs_background": "light"
     },
     "output_type": "display_data"
    }
   ],
   "source": [
    "# line plot to visualize the change in training and validation loss over epochs.\n",
    "train_loss = history.history['loss']\n",
    "val_loss = history.history['val_loss']\n",
    "epochs = range(1, len(train_loss) + 1)\n",
    "\n",
    "plt.figure(figsize=(12, 6))\n",
    "plt.plot(epochs, train_loss, 'g', label='Training loss')\n",
    "plt.plot(epochs, val_loss, 'r', label='Validation loss')\n",
    "plt.title('Training and Validation Loss')\n",
    "plt.xlabel('Epochs')\n",
    "plt.ylabel('Loss')\n",
    "plt.legend()\n",
    "plt.show()"
   ]
  },
  {
   "cell_type": "code",
   "execution_count": 12,
   "id": "071f096c",
   "metadata": {},
   "outputs": [
    {
     "name": "stdout",
     "output_type": "stream",
     "text": [
      "The model starts overfitting at 49 epochs\n"
     ]
    }
   ],
   "source": [
    "#Detecting overfitting \n",
    "dfnew = pd.DataFrame(history.history)\n",
    "dfnew.index = range(1,401)\n",
    "dfnew[dfnew.val_loss==dfnew.val_loss.min()]\n",
    "optimal_epochs = dfnew['val_loss'].idxmin()\n",
    "print(\"The model starts overfitting at\",optimal_epochs,\"epochs\")"
   ]
  },
  {
   "cell_type": "code",
   "execution_count": 13,
   "id": "f37fb7bd",
   "metadata": {},
   "outputs": [],
   "source": [
    "#Retraining te model\n",
    "network2 = keras.Sequential([\n",
    "    layers.Dense(32, activation='relu'),\n",
    "    layers.Dense(16, activation='relu'),\n",
    "    layers.Dense(1, activation='sigmoid')\n",
    "])\n",
    "\n",
    "network2.compile(optimizer='rmsprop',\n",
    "                 loss='binary_crossentropy',\n",
    "                 metrics=['accuracy'])\n",
    "\n",
    "history = network2.fit(X_train_scaled, y_train, epochs=optimal_epochs,\n",
    "                       batch_size=48, verbose=0)"
   ]
  },
  {
   "cell_type": "code",
   "execution_count": 14,
   "id": "dc399952",
   "metadata": {},
   "outputs": [
    {
     "name": "stdout",
     "output_type": "stream",
     "text": [
      "6/6 [==============================] - 0s 2ms/step\n",
      "6/6 [==============================] - 0s 2ms/step - loss: 0.4367 - accuracy: 0.8162\n",
      "Test Loss:  0.43670955300331116\n",
      "Test Accuracy Rate:  0.816216230392456\n",
      "F1 Score:  0.7462686567164178\n",
      "Precision:  0.7936507936507936\n",
      "Recall:  0.704225352112676\n",
      "Classification Report:\n",
      "               precision    recall  f1-score   support\n",
      "\n",
      "           0       0.83      0.89      0.86       114\n",
      "           1       0.79      0.70      0.75        71\n",
      "\n",
      "    accuracy                           0.82       185\n",
      "   macro avg       0.81      0.80      0.80       185\n",
      "weighted avg       0.81      0.82      0.81       185\n",
      "\n"
     ]
    }
   ],
   "source": [
    "# Evaluate and print metrics (loss, accuracy, F1 score, precision, recall)\n",
    "\n",
    "y_pred_probs = network2.predict(X_test_scaled)\n",
    "\n",
    "# Converting predicted probabilities to binary predictions (0 or 1)\n",
    "y_pred = (y_pred_probs > 0.5).astype(int)\n",
    "\n",
    "f1_score_value = f1_score(y_test, y_pred)\n",
    "precision_value = precision_score(y_test, y_pred)\n",
    "recall_value = recall_score(y_test, y_pred)\n",
    "test_loss, test_accuracy = network2.evaluate(X_test_scaled, y_test)\n",
    "\n",
    "print(\"Test Loss: \", test_loss)\n",
    "print(\"Test Accuracy Rate: \", test_accuracy)\n",
    "print(\"F1 Score: \", f1_score_value)\n",
    "print(\"Precision: \", precision_value)\n",
    "print(\"Recall: \", recall_value)\n",
    "\n",
    "# Printing the complete classification report as well\n",
    "classification_report_result = classification_report(y_test, y_pred)\n",
    "print(\"Classification Report:\\n\", classification_report_result)\n"
   ]
  },
  {
   "cell_type": "markdown",
   "id": "27d66e9c",
   "metadata": {},
   "source": [
    "## Conclusion\n",
    "\n",
    "In this exploration of deep learning models, we successfully trained and evaluated two distinct architectures. The first model, featuring a single hidden layer with 24 nodes, demonstrated its ability to capture patterns in the data. On the other hand, the second model, incorporating two hidden layers with 32 and 16 nodes, showcased increased complexity, potentially capturing more intricate relationships.\n",
    "\n",
    "As we consider the trade-off between model complexity and performance, further analysis and comparison of these metrics become crucial. Depending on the specific requirements of the task, such as precision, recall, or overall accuracy, the most suitable model can be chosen.\n",
    "\n",
    "This exploration provides valuable insights into the performance of different deep learning architectures, paving the way for informed decision-making in selecting the optimal model for our predictive task.\n"
   ]
  }
 ],
 "metadata": {
  "kernelspec": {
   "display_name": "Python 3 (ipykernel)",
   "language": "python",
   "name": "python3"
  },
  "language_info": {
   "codemirror_mode": {
    "name": "ipython",
    "version": 3
   },
   "file_extension": ".py",
   "mimetype": "text/x-python",
   "name": "python",
   "nbconvert_exporter": "python",
   "pygments_lexer": "ipython3",
   "version": "3.9.12"
  }
 },
 "nbformat": 4,
 "nbformat_minor": 5
}
